{
 "cells": [
  {
   "cell_type": "code",
   "execution_count": null,
   "id": "667c159b",
   "metadata": {},
   "outputs": [],
   "source": [
    "# A function which reverses all input words in a string, \n",
    "# which are more than five characters long, e.g.\n",
    "\n",
    "# spin_words('Welcome to my place) returns: 'emocleW to my place'.\n",
    "\n",
    "def spin_words(sentence):\n",
    "    l = sentence.split(' ')\n",
    "    for w in l:\n",
    "        if len(w) > 4:\n",
    "            l.insert(l.index(w),\"\".join(list(reversed(w))))\n",
    "            l.remove(w)\n",
    "        else:\n",
    "            pass\n",
    "    return \" \".join(l)"
   ]
  }
 ],
 "metadata": {
  "kernelspec": {
   "display_name": "Python 3 (ipykernel)",
   "language": "python",
   "name": "python3"
  },
  "language_info": {
   "codemirror_mode": {
    "name": "ipython",
    "version": 3
   },
   "file_extension": ".py",
   "mimetype": "text/x-python",
   "name": "python",
   "nbconvert_exporter": "python",
   "pygments_lexer": "ipython3",
   "version": "3.9.12"
  }
 },
 "nbformat": 4,
 "nbformat_minor": 5
}
