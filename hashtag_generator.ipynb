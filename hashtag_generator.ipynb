{
 "cells": [
  {
   "cell_type": "code",
   "execution_count": null,
   "id": "a1802701",
   "metadata": {},
   "outputs": [],
   "source": [
    "# Creating hashtags for input strings, which are longer than zero characters, \n",
    "# but shorter than 140 characters.\n",
    "\n",
    "def generate_hashtag(s):\n",
    "    if len(s) <= 140 and s != '':\n",
    "        new_s = '#' + s.title().replace(' ','')\n",
    "        return new_s\n",
    "    else:\n",
    "        return False"
   ]
  }
 ],
 "metadata": {
  "kernelspec": {
   "display_name": "Python 3 (ipykernel)",
   "language": "python",
   "name": "python3"
  },
  "language_info": {
   "codemirror_mode": {
    "name": "ipython",
    "version": 3
   },
   "file_extension": ".py",
   "mimetype": "text/x-python",
   "name": "python",
   "nbconvert_exporter": "python",
   "pygments_lexer": "ipython3",
   "version": "3.9.12"
  }
 },
 "nbformat": 4,
 "nbformat_minor": 5
}
