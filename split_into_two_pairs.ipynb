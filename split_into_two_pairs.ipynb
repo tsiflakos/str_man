{
 "cells": [
  {
   "cell_type": "code",
   "execution_count": null,
   "id": "056d334e",
   "metadata": {},
   "outputs": [],
   "source": [
    "# Input strings are split into pairs of two. If the string length is odd,\n",
    "# then the last charachter should be an underscore _.\n",
    "\n",
    "def solution(s):\n",
    "    l = []\n",
    "    if len(s) % 2 == 0:\n",
    "        for i in range(0,len(s),2):\n",
    "            l.append(s[i] + s[i+1])\n",
    "    else:        \n",
    "        for i in range(0,len(s)-1,2):\n",
    "            l.append(s[i] + s[i+1])\n",
    "        l.append(s[len(s)-1] + '_')\n",
    "    return l\n",
    "    "
   ]
  }
 ],
 "metadata": {
  "kernelspec": {
   "display_name": "Python 3 (ipykernel)",
   "language": "python",
   "name": "python3"
  },
  "language_info": {
   "codemirror_mode": {
    "name": "ipython",
    "version": 3
   },
   "file_extension": ".py",
   "mimetype": "text/x-python",
   "name": "python",
   "nbconvert_exporter": "python",
   "pygments_lexer": "ipython3",
   "version": "3.9.12"
  }
 },
 "nbformat": 4,
 "nbformat_minor": 5
}
