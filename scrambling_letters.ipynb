{
 "cells": [
  {
   "cell_type": "code",
   "execution_count": null,
   "id": "31c4cb20",
   "metadata": {},
   "outputs": [],
   "source": [
    "# Moving the first letter of each word to the end of it and\n",
    "# adding 'ay' to it. Punctuations remain untouched.\n",
    "\n",
    "def pig_it(text):\n",
    "    return ' '.join([w[1:] + w[0] + 'ay' if w.isalpha() == True else w for w in text.split()])"
   ]
  }
 ],
 "metadata": {
  "kernelspec": {
   "display_name": "Python 3 (ipykernel)",
   "language": "python",
   "name": "python3"
  },
  "language_info": {
   "codemirror_mode": {
    "name": "ipython",
    "version": 3
   },
   "file_extension": ".py",
   "mimetype": "text/x-python",
   "name": "python",
   "nbconvert_exporter": "python",
   "pygments_lexer": "ipython3",
   "version": "3.9.12"
  }
 },
 "nbformat": 4,
 "nbformat_minor": 5
}
