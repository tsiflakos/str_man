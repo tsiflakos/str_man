{
 "cells": [
  {
   "cell_type": "code",
   "execution_count": null,
   "id": "7432bf70",
   "metadata": {},
   "outputs": [],
   "source": [
    "# Replacing every string with its position in the alphabet.\n",
    "\n",
    "from string import ascii_lowercase as low\n",
    "from string import ascii_uppercase as up\n",
    "\n",
    "numbers = list(range(1,27))\n",
    "dict_low = dict(zip(low,numbers))\n",
    "dict_up = dict(zip(up,numbers))\n",
    "d = dict(**dict_low,**dict_up)\n",
    "\n",
    "def alphabet_position(text):\n",
    "    l = []\n",
    "    for let in text:\n",
    "        try:\n",
    "            l.append(str(d[let]))\n",
    "        except KeyError:\n",
    "            continue\n",
    "    return ' '.join(l)"
   ]
  }
 ],
 "metadata": {
  "kernelspec": {
   "display_name": "Python 3 (ipykernel)",
   "language": "python",
   "name": "python3"
  },
  "language_info": {
   "codemirror_mode": {
    "name": "ipython",
    "version": 3
   },
   "file_extension": ".py",
   "mimetype": "text/x-python",
   "name": "python",
   "nbconvert_exporter": "python",
   "pygments_lexer": "ipython3",
   "version": "3.9.12"
  }
 },
 "nbformat": 4,
 "nbformat_minor": 5
}
